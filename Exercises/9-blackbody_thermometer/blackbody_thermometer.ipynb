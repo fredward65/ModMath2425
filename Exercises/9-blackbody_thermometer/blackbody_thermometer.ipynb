{
 "cells": [
  {
   "cell_type": "markdown",
   "metadata": {},
   "source": [
    "### Black-body radiation thermometer modelling"
   ]
  },
  {
   "cell_type": "code",
   "execution_count": 52,
   "metadata": {},
   "outputs": [],
   "source": [
    "%matplotlib widget\n",
    "# Dependencies\n",
    "import matplotlib.pyplot as plt\n",
    "import numpy as np\n",
    "\n",
    "# Settings\n",
    "plt.rcParams[\"animation.html\"] = \"jshtml\"\n",
    "plt.rcParams['figure.dpi'] = 150"
   ]
  },
  {
   "cell_type": "markdown",
   "metadata": {},
   "source": [
    "### [Planck's Law](https://en.wikipedia.org/wiki/Planck%27s_law)\n",
    "\n",
    "Radiance Intensity $B_\\lambda(\\lambda,T) = \\frac{2 h c^2}{\\lambda^5} \\frac{1}{e^{\\left( h c / \\left(\\lambda k_B T\\right) \\right)}-1}$\n",
    "\n",
    "$\\lambda =$ Wavelength\n",
    "\n",
    "$h =$ Planck constant ($\\text{J} \\cdot \\text{s}$)\n",
    "\n",
    "$c =$ Lightspeed ($\\text{m} \\cdot \\text{s}^{-1}$)\n",
    "\n",
    "$k_B =$ Boltzmann constant ($\\text{J} \\cdot \\text{K}$)"
   ]
  },
  {
   "cell_type": "code",
   "execution_count": null,
   "metadata": {},
   "outputs": [],
   "source": [
    "\"\"\" Physical Constants \"\"\"\n",
    "h = 6.626e-34  # Planck constant (J·s)\n",
    "c = 3.0e8      # Lightspeed (m/s)\n",
    "kB = 1.38e-23  # Boltzmann constant (J/K)\n",
    "\n",
    "lambda_range = np.linspace(1e-6, 5e-6, 500)  # Wavelength: 1 µm - 5 µm\n",
    "T_values = [300, 600, 900, 1200, 1500]  # Temperature values in K\n",
    "\n",
    "\"\"\" Planck's Law \"\"\"\n",
    "def planck_law(lambda_range, T):\n",
    "    return np.ones_like(lambda_range)\n",
    "\n",
    "fig = plt.figure(figsize=(8, 4))\n",
    "ax = fig.subplots()\n",
    "ax.set_title(\"Black-body radiation spectrum\")\n",
    "ax.set_xlabel(\"Wavelength (µm)\")\n",
    "ax.set_ylabel(\"Normalised intensity\")\n",
    "ax.grid(linewidth=.2)\n",
    "\n",
    "for T in T_values:\n",
    "    intensity = planck_law(lambda_range, T_values)  # Planck's Law\n",
    "    intensity /= np.max(intensity)  # Normalise\n",
    "    ax.plot(lambda_range * 1e6, intensity, label=f\"@{T} K\")\n",
    "\n",
    "ax.legend()\n",
    "plt.show()"
   ]
  },
  {
   "cell_type": "markdown",
   "metadata": {},
   "source": [
    "### Sensor Calibration via Polynomial Fitting\n",
    "\n",
    "Polynomial Fitting $y(x) = p_0 x^n + \\dots + p_n$ using numpy\n",
    "```python\n",
    "np.polyfit(x_data, y_data, degree) -> polynomial_coefficients\n",
    "```\n",
    "\n",
    "Evaluating the coefficients $p_0, \\dots, p_n$ of a polynome\n",
    "```python\n",
    "np.polyval(polynomial_coefficients, x_data) -> y_data\n",
    "```\n"
   ]
  },
  {
   "cell_type": "code",
   "execution_count": null,
   "metadata": {},
   "outputs": [],
   "source": [
    "# Sensor data simulation\n",
    "T_sim = np.linspace(300, 1500, 50)  # Simulated Temperatures\n",
    "I_measured = np.array([np.trapezoid(planck_law(lambda_range, T), lambda_range) for T in T_sim])  # Signal integration\n",
    "noise = np.random.normal(0, 0.05 * np.max(I_measured), size=len(I_measured))\n",
    "I_noisy = I_measured + noise\n",
    "\n",
    "# Sensor Calibration (Quadratic Fitting)\n",
    "T_estimated = np.ones_like(T_sim)\n",
    "\n",
    "# Comparing data\n",
    "fig = plt.figure(figsize=(8, 6))\n",
    "ax = fig.subplots()\n",
    "ax.scatter(I_noisy, T_sim, label=\"Measured data\", color='b', alpha=0.6)\n",
    "ax.plot(I_noisy, T_estimated, label=f\"Model\", color='r')\n",
    "ax.set_xlabel(\"Measured Intensity\")\n",
    "ax.set_ylabel(\"Temperature (K)\")\n",
    "ax.set_title(\"Black-body Temperature Sensor Calibration\")\n",
    "ax.legend()\n",
    "ax.grid(linewidth=.2, zorder=0)\n",
    "plt.show()"
   ]
  }
 ],
 "metadata": {
  "kernelspec": {
   "display_name": "venv",
   "language": "python",
   "name": "python3"
  },
  "language_info": {
   "codemirror_mode": {
    "name": "ipython",
    "version": 3
   },
   "file_extension": ".py",
   "mimetype": "text/x-python",
   "name": "python",
   "nbconvert_exporter": "python",
   "pygments_lexer": "ipython3",
   "version": "3.12.3"
  }
 },
 "nbformat": 4,
 "nbformat_minor": 2
}
