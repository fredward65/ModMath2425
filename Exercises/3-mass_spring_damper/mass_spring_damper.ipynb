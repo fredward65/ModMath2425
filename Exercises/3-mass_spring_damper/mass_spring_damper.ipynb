{
 "cells": [
  {
   "cell_type": "markdown",
   "metadata": {},
   "source": [
    "### Mass-Spring-Damper\n",
    "$m\\ddot{x} = -kx -c\\dot{x}$\n",
    "\n",
    "$m = $ ?\n",
    "\n",
    "$x = $ ?\n",
    "\n",
    "$k = $ ?\n",
    "\n",
    "$c = $ ?"
   ]
  },
  {
   "cell_type": "code",
   "execution_count": 2,
   "metadata": {},
   "outputs": [],
   "source": [
    "%matplotlib widget\n",
    "# Dependencies\n",
    "import matplotlib.pyplot as plt\n",
    "import numpy as np\n",
    "import matplotlib.animation\n",
    "from matplotlib import patches\n",
    "\n",
    "# Settings\n",
    "np.set_printoptions(precision=3)\n",
    "plt.rcParams[\"animation.html\"] = \"jshtml\"\n",
    "plt.rcParams['figure.dpi'] = 150"
   ]
  },
  {
   "cell_type": "code",
   "execution_count": null,
   "metadata": {},
   "outputs": [],
   "source": [
    "# Time vector\n",
    "t_f = 5\n",
    "t = np.linspace(0, t_f, num=t_f*100)\n",
    "dt = np.diff(t)\n",
    "dt = np.append(dt, [dt[-1]])\n",
    "\n",
    "# Data\n",
    "x = 5*np.sin(t*np.pi)\n",
    "\n",
    "# Plot settings\n",
    "fig = plt.figure(figsize=(6,3))\n",
    "fig.set_label(\"Mass-Spring-Damper\")\n",
    "ax_1, ax_2 = fig.subplots(1, 2, width_ratios=[1,5])\n",
    "ax_1.set_xticklabels([])\n",
    "ax_1.set_yticklabels([])\n",
    "ax_1.set_xticks([])\n",
    "ax_1.set_yticks([])\n",
    "ax_1.set_xlim(0,1)\n",
    "ax_1.set_ylim(-5,5)\n",
    "ax_2.set_xlim(0,t[-1])\n",
    "ax_2.set_ylim(-5,5)\n",
    "\n",
    "rect = patches.Rectangle((0.0,-0.5), 1, 1)\n",
    "ax_1.add_patch(rect)\n",
    "line = ax_2.plot(0,0)[0]\n",
    "\n",
    "def update(i):\n",
    "    rect.set_y(x[i]-0.5)\n",
    "    line.set_data(t[:i], x[:i])\n",
    "\n",
    "ani = matplotlib.animation.FuncAnimation(fig, update, frames=len(t), interval=np.mean(dt))\n",
    "plt.show()"
   ]
  }
 ],
 "metadata": {
  "kernelspec": {
   "display_name": "venv",
   "language": "python",
   "name": "python3"
  },
  "language_info": {
   "codemirror_mode": {
    "name": "ipython",
    "version": 3
   },
   "file_extension": ".py",
   "mimetype": "text/x-python",
   "name": "python",
   "nbconvert_exporter": "python",
   "pygments_lexer": "ipython3",
   "version": "3.12.3"
  }
 },
 "nbformat": 4,
 "nbformat_minor": 2
}
