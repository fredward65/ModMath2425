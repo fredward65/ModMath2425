{
 "cells": [
  {
   "cell_type": "markdown",
   "metadata": {},
   "source": [
    "### Mass-Spring-Damper\n",
    "$m\\ddot{x} = -kx -c\\dot{x}$\n",
    "\n",
    "$m = $ Mass\n",
    "\n",
    "$x = $ Distance w.r.t. equilibrium state\n",
    "\n",
    "$k = $ Spring constant\n",
    "\n",
    "$c = $ Damping constant\n",
    "\n",
    "$m\\frac{d^2x}{dt^2} = -kx - c \\frac{dx}{dt}$"
   ]
  },
  {
   "cell_type": "code",
   "execution_count": 3,
   "metadata": {},
   "outputs": [],
   "source": [
    "%matplotlib widget\n",
    "# Dependencies\n",
    "import matplotlib.pyplot as plt\n",
    "import numpy as np\n",
    "import matplotlib.animation\n",
    "from matplotlib import patches\n",
    "\n",
    "# Settings\n",
    "np.set_printoptions(precision=3)\n",
    "plt.rcParams[\"animation.html\"] = \"jshtml\"\n",
    "plt.rcParams['figure.dpi'] = 150"
   ]
  },
  {
   "cell_type": "code",
   "execution_count": null,
   "metadata": {},
   "outputs": [],
   "source": [
    "try:\n",
    "    ani.event_source.stop()\n",
    "except NameError:\n",
    "    pass\n",
    "\n",
    "# Time vector\n",
    "t_f = 5\n",
    "t = np.linspace(0, t_f, num=t_f*100)\n",
    "dt = np.diff(t)\n",
    "dt = np.append(dt, [dt[-1]])\n",
    "\n",
    "# Data\n",
    "x = []\n",
    "k = 20\n",
    "c = [2, 2*np.sqrt(k), 20]\n",
    "lgnd = ['Underdamped', 'Critically damped', 'Overdamped']\n",
    "for c_i in c:\n",
    "    x_ = 5\n",
    "    dx_ = 0\n",
    "    x_b = []\n",
    "    for dt_i in dt:\n",
    "        ddx_ = -k*x_ -c_i*dx_\n",
    "        x_b.append(x_)\n",
    "        dx_ = dx_ + ddx_ * dt_i\n",
    "        x_ = x_ + dx_ * dt_i\n",
    "    x.append(x_b)\n",
    "\n",
    "# Plot settings\n",
    "fig = plt.figure(figsize=(6,3))\n",
    "fig.set_label(\"Mass-Spring-Damper\")\n",
    "ax_1, ax_2 = fig.subplots(1, 2, width_ratios=[1,5])\n",
    "ax_1.set_xticklabels([])\n",
    "ax_1.set_yticklabels([])\n",
    "ax_1.set_xticks([])\n",
    "ax_1.set_yticks([])\n",
    "ax_1.set_xlim(0,1)\n",
    "ax_1.set_ylim(-5,5)\n",
    "ax_2.set_xlim(0,t[-1])\n",
    "ax_2.set_ylim(-5,5)\n",
    "\n",
    "rect = []\n",
    "line = []\n",
    "for i in range(3):\n",
    "    color = (1-i/2,0,i/2)\n",
    "    rect.append(patches.Rectangle((0.0,-0.5), 1, 1, color=color))\n",
    "    ax_1.add_patch(rect[i])\n",
    "    line.append(ax_2.plot(0,0,color=color,label=lgnd[i]+'@%5.2f'%c[i])[0])\n",
    "\n",
    "def update(i):\n",
    "    for j, (rect_i, line_i) in enumerate(zip(rect, line)):\n",
    "        rect_i.set_y(x[j][i]-0.5)\n",
    "        line_i.set_data(t[:i], x[j][:i])\n",
    "\n",
    "ani = matplotlib.animation.FuncAnimation(fig, update, frames=len(t), interval=np.mean(dt))\n",
    "plt.legend()\n",
    "plt.show()"
   ]
  }
 ],
 "metadata": {
  "kernelspec": {
   "display_name": "venv",
   "language": "python",
   "name": "python3"
  },
  "language_info": {
   "codemirror_mode": {
    "name": "ipython",
    "version": 3
   },
   "file_extension": ".py",
   "mimetype": "text/x-python",
   "name": "python",
   "nbconvert_exporter": "python",
   "pygments_lexer": "ipython3",
   "version": "3.12.3"
  }
 },
 "nbformat": 4,
 "nbformat_minor": 2
}
