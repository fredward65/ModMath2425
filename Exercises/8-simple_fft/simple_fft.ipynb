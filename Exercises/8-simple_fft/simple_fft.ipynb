{
 "cells": [
  {
   "cell_type": "markdown",
   "metadata": {},
   "source": [
    "### Signal Analysis through FFT (Fast Fourier Transform)\n",
    "[Fast Fourier Transform Tutorial by Dr. Youssef](https://youssef-lab.sdsu.edu/wp-content/uploads/2016/09/FFT-Tutorial.pdf)\n",
    "\n",
    "[Discrete Fourier Transform (numpy.fft)](https://numpy.org/doc/stable/reference/routines.fft.html#module-numpy.fft)"
   ]
  },
  {
   "cell_type": "code",
   "execution_count": 1,
   "metadata": {},
   "outputs": [],
   "source": [
    "%matplotlib widget\n",
    "# Dependencies\n",
    "import matplotlib.pyplot as plt\n",
    "import numpy as np\n",
    "from IPython.display import Audio, display\n",
    "\n",
    "# Settings\n",
    "plt.rcParams[\"animation.html\"] = \"jshtml\"\n",
    "plt.rcParams['figure.dpi'] = 150\n",
    "xlim = [0,0.1]\n",
    "\n",
    "def play_sound(signal, rate):\n",
    "    wn = Audio(data=signal / np.max(np.abs(signal)), rate=rate)\n",
    "    display(wn)"
   ]
  },
  {
   "cell_type": "code",
   "execution_count": null,
   "metadata": {},
   "outputs": [],
   "source": [
    "\"\"\" Generate signal \"\"\"\n",
    "sampling_frequency = 44100\n",
    "t_period = 3\n",
    "n_samples = sampling_frequency * t_period\n",
    "t = np.linspace(0, t_period, n_samples, endpoint=False)\n",
    "\n",
    "# Clean signal\n",
    "fft_freq = np.random.uniform(low=220, high=880, size=3)\n",
    "amplitude = np.random.uniform(low=0.5, high=5, size=3)\n",
    "signal_clean = np.sum([a * np.sin(2 * np.pi * f * t) for a, f in zip(amplitude, fft_freq)], axis=0)\n",
    "\n",
    "# Add random noise\n",
    "noise = 0.5 * np.random.randn(n_samples)\n",
    "signal_noisy = signal_clean + noise\n",
    "play_sound(signal_clean, sampling_frequency)\n",
    "play_sound(signal_noisy, sampling_frequency)\n",
    "\n",
    "# Time domain plot\n",
    "fig = plt.figure(figsize=(8, 4))\n",
    "fig.set_label(\"Simple FFT\")\n",
    "ax = fig.subplots()\n",
    "ax.plot(t, signal_noisy, linewidth=1, label='Nosiy', color='r')\n",
    "ax.plot(t, signal_clean, linewidth=1, label='Clean', color='b', alpha=0.5)\n",
    "ax.set_xlabel(\"Time (s)\")\n",
    "ax.set_ylabel(\"Amplitude\")\n",
    "ax.set_xlim(xlim)\n",
    "ax.set_title(\"Signal\")\n",
    "ax.legend()\n",
    "plt.show()"
   ]
  },
  {
   "cell_type": "markdown",
   "metadata": {},
   "source": [
    "### Fast Fourier Transform (FFT)\n",
    "$X = [x_0, x_1, \\dots, x_{n-1}]$\n",
    "\n",
    "$X_k = \\sum_{m=0}^{n-1} x_m e^{-i2\\pi km/n}$\n",
    "\n",
    "Luckily, Numpy has it covered.\n",
    "```python\n",
    "np.fft.fft(time_data) -> frequency_data\n",
    "```"
   ]
  },
  {
   "cell_type": "code",
   "execution_count": null,
   "metadata": {},
   "outputs": [],
   "source": [
    "\"\"\" Frequency analysis using FFT [np.fft.fft(_)] \"\"\"\n",
    "fft_freq = np.fft.fftfreq(n_samples, 1/sampling_frequency)\n",
    "fft_ampl = np.zeros_like(signal_noisy)\n",
    "\n",
    "# Frequency domain plot\n",
    "fig = plt.figure(figsize=(8, 4))\n",
    "fig.set_label(\"Simple FFT\")\n",
    "ax = fig.subplots()\n",
    "ax.plot(fft_freq, fft_ampl, 'o-', linewidth=1, markersize=3)\n",
    "ax.set_xlabel(\"Frequency (Hz)\")\n",
    "ax.set_ylabel(\"Amplitude\")\n",
    "ax.set_title(\"Frequency Spectre (FFT)\")\n",
    "\n",
    "fig.tight_layout()\n",
    "plt.show()"
   ]
  },
  {
   "cell_type": "markdown",
   "metadata": {},
   "source": [
    "### Fitering and Inverse FFT\n",
    "```python\n",
    "np.fft.ifft(frequency_data) -> time_data\n",
    "```\n",
    "\n",
    "#### Reminder: Mean Square Error (MSE)\n",
    "$\\frac{1}{2}\\sum_{i=1}^n(X_i - \\hat{X}_i)^2$, $X =$ observed values, $\\hat{X} = $ predicted values"
   ]
  },
  {
   "cell_type": "code",
   "execution_count": null,
   "metadata": {},
   "outputs": [],
   "source": [
    "\"\"\" Signal reconstruction \"\"\"\n",
    "signal_reconstructed = np.zeros_like(signal_noisy)\n",
    "\n",
    "play_sound(signal_clean, sampling_frequency)\n",
    "play_sound(signal_noisy, sampling_frequency)\n",
    "play_sound(signal_reconstructed, sampling_frequency)\n",
    "\n",
    "# Compare noisy and reconstructed signals\n",
    "signal_error = np.inf  # Mean Squared Error\n",
    "\n",
    "# Plot different signals\n",
    "fig = plt.figure(figsize=(8, 4))\n",
    "ax = fig.subplots()\n",
    "ax.plot(t, signal_noisy, label='Noisy', color='gray', alpha=0.5, linewidth=1)\n",
    "ax.plot(t, signal_reconstructed, label='Filtered FFT (MSE %5.3f)' % signal_error, color='m', linewidth=1)\n",
    "ax.set_xlim(xlim)\n",
    "ax.set_xlabel(\"Time (s)\")\n",
    "ax.set_ylabel(\"Amplitude\")\n",
    "ax.set_title(\"Signal Reconstruction\")\n",
    "ax.legend(loc='lower left')\n",
    "plt.show()"
   ]
  }
 ],
 "metadata": {
  "kernelspec": {
   "display_name": "venv",
   "language": "python",
   "name": "python3"
  },
  "language_info": {
   "codemirror_mode": {
    "name": "ipython",
    "version": 3
   },
   "file_extension": ".py",
   "mimetype": "text/x-python",
   "name": "python",
   "nbconvert_exporter": "python",
   "pygments_lexer": "ipython3",
   "version": "3.12.3"
  }
 },
 "nbformat": 4,
 "nbformat_minor": 2
}
