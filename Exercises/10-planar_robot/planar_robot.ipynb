{
 "cells": [
  {
   "cell_type": "markdown",
   "metadata": {},
   "source": [
    "### 2R Robot Arm\n",
    "[Forward Kinematics, by Ashley Stevens](https://opentextbooks.clemson.edu/wangrobotics/chapter/forward-kinematics/)\n",
    "\n",
    "![planar arm example](https://opentextbooks.clemson.edu/app/uploads/sites/15/2021/09/DH_Examples-07-300x275.png)\n",
    "![planar arm example](https://opentextbooks.clemson.edu/app/uploads/sites/15/2021/09/DH_Examples-08-300x265.png)\n",
    "\n",
    "[Inverse Kinematics, by Akshit Lunia](https://opentextbooks.clemson.edu/wangrobotics/chapter/inverse-kinematics/)\n",
    "\n",
    "![planar arm example](https://opentextbooks.clemson.edu/app/uploads/sites/15/2021/09/Picture1-300x283.jpg)\n",
    "![planar arm example](https://opentextbooks.clemson.edu/app/uploads/sites/15/2021/09/Picture2-300x260.jpg)"
   ]
  },
  {
   "cell_type": "code",
   "execution_count": 127,
   "metadata": {},
   "outputs": [],
   "source": [
    "%matplotlib widget\n",
    "# Dependencies\n",
    "import matplotlib.animation\n",
    "import matplotlib.pyplot as plt\n",
    "import numpy as np\n",
    "\n",
    "# Settings\n",
    "plt.rcParams[\"animation.html\"] = \"jshtml\"\n",
    "plt.rcParams['figure.dpi'] = 150"
   ]
  },
  {
   "cell_type": "code",
   "execution_count": 128,
   "metadata": {},
   "outputs": [],
   "source": [
    "class RobotArm(object):\n",
    "    def __init__(self, l1, l2, ax):\n",
    "        self.l1 = l1\n",
    "        self.l2 = l2\n",
    "        self.th1 = 0\n",
    "        self.th2 = 0\n",
    "        points = self.forward_kinematics(self.th1, self.th2)\n",
    "        self.arm_plot = ax.plot(points[:,0], points[:,1], '-ob', linewidth=3, markersize=5)[0]\n",
    "        self.trj_plot = ax.plot(points[-1,0], points[-1,1], '-r', linewidth=0.5)[0]\n",
    "    \n",
    "    def set_angles(self, th1, th2):\n",
    "        self.th1 = th1\n",
    "        self.th2 = th2\n",
    "\n",
    "    def forward_kinematics(self, th1, th2):\n",
    "        \"\"\" Compute end-effector position from joint angles \"\"\"\n",
    "        p0 = np.zeros(2)\n",
    "        p1 = np.array([self.l1, 0])\n",
    "        p2 = np.array([self.l1 + self.l2, 0])\n",
    "        points = np.array([p0, p1, p2])\n",
    "        return points\n",
    "    \n",
    "    def inverse_kinematics(self):\n",
    "        \"\"\" Compute joint angles from end-effector position \"\"\"\n",
    "        th1 = 0\n",
    "        th2 = 0\n",
    "        theta = np.array([th1, th2])\n",
    "        return theta\n",
    "\n",
    "    def update(self):\n",
    "        points = self.forward_kinematics(self.th1, self.th2)\n",
    "        self.arm_plot.set_data(points[:,0], points[:,1])\n",
    "        pt_arr = np.array(self.trj_plot.get_data())\n",
    "        pt_arr = np.c_[pt_arr, points[-1]]\n",
    "        self.trj_plot.set_data(pt_arr[0], pt_arr[1])"
   ]
  },
  {
   "cell_type": "code",
   "execution_count": null,
   "metadata": {},
   "outputs": [],
   "source": [
    "try:\n",
    "    ani.event_source.stop()\n",
    "except (NameError, AttributeError) as e:\n",
    "    pass\n",
    "\n",
    "l1 = 0.5\n",
    "l2 = 0.5\n",
    "\n",
    "fig = plt.figure(figsize=(4,4))\n",
    "fig.set_label(\"2R Robot Arm\")\n",
    "ax = fig.subplots()\n",
    "ax.set_xlim((-1.5*(l1+l2), 1.5*(l1+l2)))\n",
    "ax.set_ylim((-1.5*(l1+l2), 1.5*(l1+l2)))\n",
    "ax.set_aspect(\"equal\")\n",
    "ax.grid(linewidth=.1)\n",
    "\n",
    "t = np.linspace(0, 2, 200)\n",
    "theta_arr = np.c_[0.3*np.pi + t, -0.5*np.pi + t]\n",
    "\n",
    "robot = RobotArm(l1, l2, ax)\n",
    "robot.set_angles(theta_arr[0,0], theta_arr[0,1])\n",
    "\n",
    "def update(theta):\n",
    "    robot.set_angles(theta[0], theta[1])\n",
    "    robot.update()\n",
    "\n",
    "ani = matplotlib.animation.FuncAnimation(fig, update, frames=theta_arr, interval=40, repeat=False)\n",
    "fig.tight_layout()\n",
    "plt.show()"
   ]
  }
 ],
 "metadata": {
  "kernelspec": {
   "display_name": "venv",
   "language": "python",
   "name": "python3"
  },
  "language_info": {
   "codemirror_mode": {
    "name": "ipython",
    "version": 3
   },
   "file_extension": ".py",
   "mimetype": "text/x-python",
   "name": "python",
   "nbconvert_exporter": "python",
   "pygments_lexer": "ipython3",
   "version": "3.12.3"
  }
 },
 "nbformat": 4,
 "nbformat_minor": 2
}
