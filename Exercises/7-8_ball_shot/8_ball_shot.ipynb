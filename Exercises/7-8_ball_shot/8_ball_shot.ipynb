{
 "cells": [
  {
   "cell_type": "markdown",
   "metadata": {},
   "source": [
    "### 8-ball shot\n",
    "\n",
    "![alt text](image.png)\n",
    "\n",
    "Conservation of momentum: $m_A {v_A}_i + m_B {v_B}_i = m_A {v_A}_f + m_B {v_B}_f$\n",
    "\n",
    "Coefficient of restitution: $e = -\\frac{{v_B}_f-{v_A}_f}{{v_B}_i-{v_A}_i}$\n",
    "\n",
    "Conservation of energy: ${{E_K}_A}_i + {{E_K}_B}_i = {{E_K}_A}_f + {{E_K}_B}_f$\n",
    "\n",
    "Mechanical kinetic energy: $E_{K_\\text{mechanic}} = \\frac{1}{2}mv^2$"
   ]
  },
  {
   "cell_type": "code",
   "execution_count": 277,
   "metadata": {},
   "outputs": [],
   "source": [
    "%matplotlib widget\n",
    "# Dependencies\n",
    "import matplotlib.animation\n",
    "import matplotlib.pyplot as plt\n",
    "import numpy as np\n",
    "from matplotlib import patches\n",
    "\n",
    "# Settings\n",
    "plt.rcParams[\"animation.html\"] = \"jshtml\"\n",
    "plt.rcParams['figure.dpi'] = 150\n",
    "w_ = 2.54\n",
    "h_ = 1.27"
   ]
  },
  {
   "cell_type": "code",
   "execution_count": 278,
   "metadata": {},
   "outputs": [],
   "source": [
    "class Ball(patches.Circle):\n",
    "    def __init__(self, xy, ax, vel=[0,0], **kwargs):\n",
    "        rad = 0.05715  # Fixed radius\n",
    "        super().__init__(xy, rad, **kwargs)\n",
    "        ax.add_patch(self)\n",
    "        self.vel = np.array(vel).astype(np.float64)\n",
    "        self.acc = np.zeros(2).astype(np.float64)\n",
    "        \n",
    "    def get_xy(self):\n",
    "        return np.array(self.get_center()).astype(np.float64)\n",
    "\n",
    "    def update(self, dti):\n",
    "        if self.get_visible():\n",
    "            pos = self.get_xy()\n",
    "            if not np.linalg.vector_norm(self.vel) == 0:\n",
    "                self.acc = - 0.6 * self.vel / np.linalg.vector_norm(self.vel)\n",
    "            else:\n",
    "                self.acc = np.zeros(2).astype(np.float64)\n",
    "            self.vel += self.acc * dti\n",
    "            if pos[0] + self.radius  > w_ or pos[0] - self.radius < 0:\n",
    "                self.vel[0] *= -1\n",
    "            if pos[1] + self.radius  > h_ or pos[1] - self.radius < 0:\n",
    "                self.vel[1] *= -1\n",
    "            pos += self.vel * dti\n",
    "            self.set_center(pos)\n",
    "        "
   ]
  },
  {
   "cell_type": "code",
   "execution_count": 279,
   "metadata": {},
   "outputs": [],
   "source": [
    "\"\"\" YOUR CODE IN THIS BLOCK \"\"\"\n",
    "\n",
    "def estimate_cue_vel(pcb, p8b, phole):\n",
    "    \"\"\" Estimate initial velocity of cue ball \"\"\"\n",
    "    vel = [3, 0]\n",
    "    \n",
    "    return vel\n",
    "\n",
    "def collision(b_1, b_2):\n",
    "    \"\"\" Check and apply collisions between b_1 and b_2 \"\"\"\n",
    "    p_b1 = b_1.get_xy()\n",
    "    r_b1 = b_1.get_radius()\n",
    "    v_b1 = b_1.vel\n",
    "    p_b2 = b_2.get_xy()\n",
    "    r_b2 = b_2.get_radius()\n",
    "    v_b2 = b_2.vel\n",
    "\n",
    "    b_1.vel = v_b1\n",
    "    b_2.vel = v_b2\n"
   ]
  },
  {
   "cell_type": "code",
   "execution_count": 280,
   "metadata": {},
   "outputs": [
    {
     "data": {
      "application/vnd.jupyter.widget-view+json": {
       "model_id": "91a321e6ba2640639299e9ad9d0411be",
       "version_major": 2,
       "version_minor": 0
      },
      "image/png": "[encoded data removed]",
      "text/html": [
       "\n",
       "            <div style=\"display: inline-block;\">\n",
       "                <div class=\"jupyter-widgets widget-label\" style=\"text-align: center;\">\n",
       "                    Figure\n",
       "                </div>\n",
       "                <img src='data:image/png;base64,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' width=900.0/>\n",
       "            </div>\n",
       "        "
      ],
      "text/plain": [
       "Canvas(toolbar=Toolbar(toolitems=[('Home', 'Reset original view', 'home', 'home'), ('Back', 'Back to previous …"
      ]
     },
     "metadata": {},
     "output_type": "display_data"
    }
   ],
   "source": [
    "try:\n",
    "    ani.event_source.stop()\n",
    "except (NameError, AttributeError) as e:\n",
    "    pass\n",
    "\n",
    "# Plot setup\n",
    "fig = plt.figure(figsize=(6,3))\n",
    "fig.set_label(\"8 ball shot\")\n",
    "ax = fig.subplots()\n",
    "ax.set_facecolor((0,0.5,0))\n",
    "ax.set_xlim(0, w_)\n",
    "ax.set_ylim(0, h_)\n",
    "ax.set_xticks([])\n",
    "ax.set_yticks([])\n",
    "\n",
    "# Holes\n",
    "ax.vlines(w_/4, 0, h_, 'k', linewidth=1, color=(.1,.1,.1), zorder=0)\n",
    "p_holes = [[xi, yi] for yi in [0, h_] for xi in [0, w_/2, w_]]\n",
    "holes = []\n",
    "for p_hi in p_holes:\n",
    "    hole = patches.Circle(p_hi, 0.064, color=(0,0,0))\n",
    "    holes.append(hole)\n",
    "    ax.add_patch(hole)\n",
    "h_idx = np.random.choice(len(p_holes))\n",
    "hole_f = holes[h_idx]\n",
    "p_hole = np.array(p_holes[h_idx])\n",
    "\n",
    "# Cue ball and 8 ball\n",
    "p_cb = np.array([w_/8, h_/2])\n",
    "p_8b = np.array([np.random.uniform(l_, s_-l_) for s_, l_ in zip([w_, h_], [w_/3, h_/8])])\n",
    "v_cue = estimate_cue_vel(p_cb, p_8b, p_hole)\n",
    "cue_b = Ball(p_cb, ax, vel=v_cue, color=(1,1,1))\n",
    "eight = Ball(p_8b, ax, vel=[0,0], color=(.1,.1,.1))\n",
    "\n",
    "# Time period\n",
    "t_f = 10\n",
    "t = np.linspace(0, t_f, num=t_f*200)\n",
    "dt = np.diff(t)\n",
    "dt = np.append(dt, [dt[-1]])\n",
    "\n",
    "def update(dt_i):\n",
    "    if cue_b.get_visible() and eight.get_visible():\n",
    "        collision(cue_b, eight)\n",
    "    cue_b.update(dt_i)\n",
    "    eight.update(dt_i)\n",
    "    for hi, phi in zip(holes, p_holes):\n",
    "        if np.linalg.norm(cue_b.get_xy() - phi) < 1.5*cue_b.radius:\n",
    "            hi.set_color((1,0,0))\n",
    "            cue_b.set_visible(False)\n",
    "    if np.linalg.norm(eight.get_xy() - p_hole) < 1.5*eight.radius:\n",
    "        hole_f.set_color((0,1,0))\n",
    "        eight.set_visible(False)\n",
    "\n",
    "ani = matplotlib.animation.FuncAnimation(fig, update, frames=dt, interval=1000*np.mean(dt), repeat=False)\n",
    "fig.tight_layout()\n",
    "plt.show()\n"
   ]
  }
 ],
 "metadata": {
  "kernelspec": {
   "display_name": "venv",
   "language": "python",
   "name": "python3"
  },
  "language_info": {
   "codemirror_mode": {
    "name": "ipython",
    "version": 3
   },
   "file_extension": ".py",
   "mimetype": "text/x-python",
   "name": "python",
   "nbconvert_exporter": "python",
   "pygments_lexer": "ipython3",
   "version": "3.12.3"
  }
 },
 "nbformat": 4,
 "nbformat_minor": 2
}
