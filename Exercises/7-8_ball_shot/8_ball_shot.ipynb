{
 "cells": [
  {
   "cell_type": "markdown",
   "metadata": {},
   "source": [
    "### 8-ball shot\n",
    "\n",
    "![alt text](image.png)\n",
    "\n",
    "Conservation of momentum: $m_A {v_A}_i + m_B {v_B}_i = m_A {v_A}_f + m_B {v_B}_f$\n",
    "\n",
    "Coefficient of restitution: $e = -\\frac{{v_B}_f-{v_A}_f}{{v_B}_i-{v_A}_i}$\n",
    "\n",
    "Conservation of energy: ${E_P}_i + {E_K}_i = {E_P}_f + {E_K}_f$\n",
    "\n",
    "Mechanical kinetic energy: $E_{K_\\text{mechanic}} = \\frac{1}{2}mv^2$"
   ]
  },
  {
   "cell_type": "code",
   "execution_count": 751,
   "metadata": {},
   "outputs": [],
   "source": [
    "%matplotlib widget\n",
    "# Dependencies\n",
    "import matplotlib.animation\n",
    "import matplotlib.pyplot as plt\n",
    "import numpy as np\n",
    "from matplotlib import patches\n",
    "\n",
    "# Settings\n",
    "plt.rcParams[\"animation.html\"] = \"jshtml\"\n",
    "plt.rcParams['figure.dpi'] = 150\n",
    "w_ = 2.54\n",
    "h_ = 1.27"
   ]
  },
  {
   "cell_type": "code",
   "execution_count": 752,
   "metadata": {},
   "outputs": [],
   "source": [
    "class Ball(patches.Circle):\n",
    "    def __init__(self, xy, ax, vel=[0,0], **kwargs):\n",
    "        rad = 0.05715  # Fixed radius\n",
    "        super().__init__(xy, rad, **kwargs)\n",
    "        ax.add_patch(self)\n",
    "        self.vel = np.array(vel).astype(np.float64)\n",
    "        self.acc = np.zeros(2).astype(np.float64)\n",
    "        \n",
    "    def get_xy(self):\n",
    "        return np.array(self.get_center()).astype(np.float64)\n",
    "\n",
    "    def update(self, dti):\n",
    "        pos = self.get_xy()\n",
    "        if not np.linalg.vector_norm(self.vel) == 0:\n",
    "            self.acc = - 0.6 * self.vel / np.linalg.vector_norm(self.vel)\n",
    "        else:\n",
    "            self.acc = np.zeros(2).astype(np.float64)\n",
    "        self.vel += self.acc * dti\n",
    "        if pos[0] + self.radius  > w_ or pos[0] - self.radius < 0:\n",
    "            self.vel[0] *= -1\n",
    "        if pos[1] + self.radius  > h_ or pos[1] - self.radius < 0:\n",
    "            self.vel[1] *= -1\n",
    "        pos += self.vel * dti\n",
    "        self.set_center(pos)\n",
    "        "
   ]
  },
  {
   "cell_type": "code",
   "execution_count": 753,
   "metadata": {},
   "outputs": [],
   "source": [
    "\"\"\" YOUR CODE IN THIS BLOCK \"\"\"\n",
    "\n",
    "def estimate_cue_vel(pcb, p8b, phole):\n",
    "    \"\"\" Estimate initial velocity of cue ball \"\"\"\n",
    "    vel = [5, 0]\n",
    "    return vel\n",
    "\n",
    "def collision(b_1, b_2):\n",
    "    \"\"\" Check and apply collisions between b_1 and b_2 \"\"\"\n",
    "    p_b1 = b_1.get_xy()\n",
    "    r_b1 = b_1.get_radius()\n",
    "    v_b1 = b_1.vel\n",
    "    p_b2 = b_2.get_xy()\n",
    "    r_b2 = b_2.get_radius()\n",
    "    v_b2 = b_2.vel\n",
    "\n",
    "    b_1.vel = v_b1\n",
    "    b_2.vel = v_b2\n"
   ]
  },
  {
   "cell_type": "code",
   "execution_count": 755,
   "metadata": {},
   "outputs": [
    {
     "data": {
      "application/vnd.jupyter.widget-view+json": {
       "model_id": "d15d1a5178574401b926a12532ee63b6",
       "version_major": 2,
       "version_minor": 0
      },
      "image/png": "[encoded data removed]",
      "text/html": [
       "\n",
       "            <div style=\"display: inline-block;\">\n",
       "                <div class=\"jupyter-widgets widget-label\" style=\"text-align: center;\">\n",
       "                    Figure\n",
       "                </div>\n",
       "                <img src='data:image/png;base64,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' width=900.0/>\n",
       "            </div>\n",
       "        "
      ],
      "text/plain": [
       "Canvas(toolbar=Toolbar(toolitems=[('Home', 'Reset original view', 'home', 'home'), ('Back', 'Back to previous …"
      ]
     },
     "metadata": {},
     "output_type": "display_data"
    }
   ],
   "source": [
    "try:\n",
    "    ani.event_source.stop()\n",
    "except (NameError, AttributeError) as e:\n",
    "    pass\n",
    "\n",
    "# Plot setup\n",
    "fig = plt.figure(figsize=(6,3))\n",
    "fig.set_label(\"8 ball shot\")\n",
    "ax = fig.subplots()\n",
    "ax.set_facecolor((0,0.5,0))\n",
    "ax.set_xlim(0, w_)\n",
    "ax.set_ylim(0, h_)\n",
    "ax.set_xticks([])\n",
    "ax.set_yticks([])\n",
    "\n",
    "# Holes\n",
    "ax.vlines(w_/4, 0, h_, 'k', linewidth=1, color=(.1,.1,.1), zorder=0)\n",
    "p_holes = [[xi, yi] for yi in [0, h_] for xi in [0, w_/2, w_]]\n",
    "for p_hi in p_holes:\n",
    "    ax.add_patch(patches.Circle(p_hi, 0.064, color=(0,0,0)))\n",
    "\n",
    "# Cue ball and 8 ball\n",
    "p_cb = np.array([w_/8, h_/2])\n",
    "p_8b = np.array([np.random.uniform(l_, s_-l_) for s_, l_ in zip([w_, h_], [w_/3, h_/8])])\n",
    "p_hole = np.array(p_holes[np.random.choice(len(p_holes))])\n",
    "v_cue = estimate_cue_vel(p_cb, p_8b, p_hole)\n",
    "cue_b = Ball(p_cb, ax, vel=v_cue, color=(1,1,1))\n",
    "eight = Ball(p_8b, ax, vel=[0,0], color=(.1,.1,.1))\n",
    "\n",
    "# Time period\n",
    "t_f = 10\n",
    "t = np.linspace(0, t_f, num=t_f*200)\n",
    "dt = np.diff(t)\n",
    "dt = np.append(dt, [dt[-1]])\n",
    "\n",
    "def update(dt_i):\n",
    "    collision(cue_b, eight)\n",
    "    cue_b.update(dt_i)\n",
    "    eight.update(dt_i)\n",
    "\n",
    "ani = matplotlib.animation.FuncAnimation(fig, update, frames=dt, interval=1000*np.mean(dt), repeat=False)\n",
    "fig.tight_layout()\n",
    "plt.show()\n"
   ]
  }
 ],
 "metadata": {
  "kernelspec": {
   "display_name": "venv",
   "language": "python",
   "name": "python3"
  },
  "language_info": {
   "codemirror_mode": {
    "name": "ipython",
    "version": 3
   },
   "file_extension": ".py",
   "mimetype": "text/x-python",
   "name": "python",
   "nbconvert_exporter": "python",
   "pygments_lexer": "ipython3",
   "version": "3.12.3"
  }
 },
 "nbformat": 4,
 "nbformat_minor": 2
}
