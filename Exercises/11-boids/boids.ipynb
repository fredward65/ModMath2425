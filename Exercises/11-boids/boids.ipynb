{
 "cells": [
  {
   "cell_type": "markdown",
   "metadata": {},
   "source": [
    "### [Boids by Craig Reynolds](https://www.red3d.com/cwr/boids/)\n",
    "\n",
    "| Separation | Alignment | Cohesion |\n",
    "| --- | --- | --- |\n",
    "| Steer to avoid crowding local flockmates | Steer towards the average heading of local flockmates | Steer to move toward the average position of local flockmates |\n",
    "| ![separation](https://www.red3d.com/cwr/boids/images/separation.gif) | ![alignment](https://www.red3d.com/cwr/boids/images/alignment.gif) | ![cohesion](https://www.red3d.com/cwr/boids/images/cohesion.gif) |\n",
    "\n",
    "![neighbourhood](https://www.red3d.com/cwr/boids/images/neighborhood.gif)\n",
    "\n",
    "Neighbourhood\n",
    "\n",
    "---\n",
    "\n",
    "Example: [The Boids! - UCL](https://rits.github-pages.ucl.ac.uk/doctoral-programming-intro/02-novice/100Boids.html)"
   ]
  },
  {
   "cell_type": "code",
   "execution_count": null,
   "metadata": {},
   "outputs": [],
   "source": [
    "%matplotlib widget\n",
    "# Dependencies\n",
    "import matplotlib.animation\n",
    "import matplotlib.pyplot as plt\n",
    "import numpy as np\n",
    "\n",
    "# Settings\n",
    "plt.rcParams[\"animation.html\"] = \"jshtml\"\n",
    "plt.rcParams['figure.dpi'] = 150\n",
    "w_ = 6\n",
    "h_ = 3"
   ]
  },
  {
   "cell_type": "code",
   "execution_count": null,
   "metadata": {},
   "outputs": [],
   "source": [
    "class Boid(object):\n",
    "    def __init__(self, pos, vel, ax):\n",
    "        self.pos = pos\n",
    "        self.vel = vel\n",
    "        self.max_vel = 2\n",
    "        unit_vel = self.vel / np.linalg.norm(self.vel)\n",
    "        self.body = ax.quiver(self.pos[0], self.pos[1], unit_vel[0], unit_vel[1], scale=50, angles='xy', color=(1,1,1), pivot='middle')\n",
    "        self.force = np.zeros(2)\n",
    "\n",
    "    def separation(self, boids):\n",
    "        separation = 1 * np.mean(self.pos - np.array([boid.pos for boid in boids]), axis=0)\n",
    "        return separation\n",
    "\n",
    "    def alignment(self, boids):\n",
    "        alignment = 1 * np.mean([boid.vel/np.linalg.norm(boid.vel) for boid in boids], axis=0)\n",
    "        return alignment\n",
    "    \n",
    "    def cohesion(self, boids):\n",
    "        cohesion = 1 * (np.mean([boid.pos for boid in boids], axis=0) - self.pos)\n",
    "        return cohesion\n",
    "\n",
    "    def flock(self, boids):\n",
    "        self.force = np.zeros(2)\n",
    "        max_dist = np.float32(0.5)\n",
    "        neighbourhood = np.extract([np.linalg.norm(self.pos - boid.pos) for boid in boids] <= max_dist, boids)\n",
    "        self.force += self.separation(neighbourhood)\n",
    "        self.force += self.alignment(neighbourhood)\n",
    "        self.force += self.cohesion(neighbourhood)\n",
    "\n",
    "    def update(self, dti):\n",
    "        self.vel += dti * self.force\n",
    "        self.vel = self.max_vel * (self.vel/np.linalg.norm(self.vel)) if np.linalg.norm(self.vel) > self.max_vel else self.vel\n",
    "        self.pos += dti * self.vel\n",
    "        self.pos = np.mod(self.pos, [w_, h_])\n",
    "        self.body.set_offsets(self.pos)\n",
    "        unit_vel = self.vel / np.linalg.norm(self.vel)\n",
    "        self.body.set_UVC(unit_vel[0], unit_vel[1])"
   ]
  },
  {
   "cell_type": "code",
   "execution_count": null,
   "metadata": {},
   "outputs": [],
   "source": [
    "try:\n",
    "    ani.event_source.stop()\n",
    "except (NameError, AttributeError) as e:\n",
    "    pass\n",
    "\n",
    "# Plot setup\n",
    "fig = plt.figure(figsize=(6,3))\n",
    "fig.set_label(\"Boids\")\n",
    "ax = fig.subplots()\n",
    "ax.set_facecolor((0,0,0))\n",
    "ax.set_xlim(0, w_)\n",
    "ax.set_ylim(0, h_)\n",
    "ax.set_xticks([])\n",
    "ax.set_yticks([])\n",
    "\n",
    "# Boids\n",
    "boids = [Boid(np.array([w_/2, h_/2]), 4*(np.random.rand(2)-0.5), ax) for i in range(50)]\n",
    "\n",
    "# Time period\n",
    "t_f = 30\n",
    "t = np.linspace(0, t_f, num=t_f*30)\n",
    "dt = np.diff(t)\n",
    "dt = np.append(dt, [dt[-1]])\n",
    "\n",
    "def update(dt_i):\n",
    "    for boid in boids:\n",
    "        boid.flock(boids)\n",
    "        boid.update(dt_i)\n",
    "\n",
    "ani = matplotlib.animation.FuncAnimation(fig, update, frames=dt, interval=1000*np.mean(dt), repeat=False)\n",
    "fig.tight_layout()\n",
    "plt.show()\n"
   ]
  }
 ],
 "metadata": {
  "kernelspec": {
   "display_name": "venv",
   "language": "python",
   "name": "python3"
  },
  "language_info": {
   "codemirror_mode": {
    "name": "ipython",
    "version": 3
   },
   "file_extension": ".py",
   "mimetype": "text/x-python",
   "name": "python",
   "nbconvert_exporter": "python",
   "pygments_lexer": "ipython3",
   "version": "3.12.3"
  }
 },
 "nbformat": 4,
 "nbformat_minor": 2
}
