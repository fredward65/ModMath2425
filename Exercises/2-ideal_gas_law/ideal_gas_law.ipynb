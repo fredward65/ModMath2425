{
 "cells": [
  {
   "cell_type": "markdown",
   "metadata": {},
   "source": [
    "### Ideal Gas Law\n",
    "$pV = nRT$\n",
    "\n",
    "$p =$ ?\n",
    "\n",
    "$V =$ ?\n",
    "\n",
    "$n =$ ?\n",
    "\n",
    "$R =$ ?\n",
    "\n",
    "$T =$ ?"
   ]
  },
  {
   "cell_type": "code",
   "execution_count": 8,
   "metadata": {},
   "outputs": [],
   "source": [
    "%matplotlib widget\n",
    "# Dependencies\n",
    "import matplotlib.pyplot as plt\n",
    "import numpy as np\n",
    "from matplotlib import colormaps as cm\n",
    "from mpl_toolkits.mplot3d import axes3d\n",
    "\n",
    "# Settings\n",
    "np.set_printoptions(precision=3)\n",
    "color_map = 'coolwarm'\n",
    "cmap = cm.get_cmap(color_map)"
   ]
  },
  {
   "cell_type": "code",
   "execution_count": null,
   "metadata": {},
   "outputs": [],
   "source": [
    "plt.cla()\n",
    "# Amount of substance (mol)\n",
    "n = 1\n",
    "# Ideal Gas Constant (kPa . L / mol . K)\n",
    "R = 8.314\n",
    "\n",
    "# Temperature range (K)\n",
    "T = np.linspace(0, 273.15 + 200, num=10)\n",
    "# Volume range (L)\n",
    "V = np.linspace(5e-2, 1, num=100)\n",
    "\n",
    "fig, ax = plt.subplots()\n",
    "\n",
    "# Plot Isotherms - P V = n R T\n",
    "P = V\n",
    "ax.plot(V, P, label=r'$T = %5.2f K$' % 0, color=cmap(0))\n",
    "plt.legend()\n",
    "plt.xlabel(r'$V$ (L)')\n",
    "plt.ylabel(r'$P$ (kPa)')\n",
    "plt.title(r'Isotherms - $P$ vs $V$')\n",
    "plt.tight_layout()\n",
    "\n",
    "plt.show()"
   ]
  },
  {
   "cell_type": "code",
   "execution_count": null,
   "metadata": {},
   "outputs": [],
   "source": [
    "plt.cla()\n",
    "# Pressure (kPa) from np.meshgrid(X, Y)\n",
    "T_, V_, P_ = axes3d.get_test_data(.25)\n",
    "\n",
    "ax = plt.figure().add_subplot(projection='3d')\n",
    "ax.grid(False)\n",
    "ax.set_box_aspect((1, 1, 1), zoom=0.8)\n",
    "ax.set_proj_type('ortho')\n",
    "ax.view_init(30, 45)\n",
    "\n",
    "ax.plot_surface(T_, V_, P_, edgecolor='k', lw=0.2 , cmap=color_map)\n",
    "ax.contour(T_, V_, P_, zdir='x', offset=np.min(T_), cmap=color_map)\n",
    "ax.set_xlabel(r'$T$ (K)')\n",
    "ax.set_ylabel(r'$V$ (L)')\n",
    "ax.set_zlabel(r'$P$ (kPa)')\n",
    "ax.set_title(r'Loi des Gaz Parfait - $P$ vs $V$ vs $T$')\n",
    "\n",
    "plt.show()"
   ]
  }
 ],
 "metadata": {
  "kernelspec": {
   "display_name": "venv",
   "language": "python",
   "name": "python3"
  },
  "language_info": {
   "codemirror_mode": {
    "name": "ipython",
    "version": 3
   },
   "file_extension": ".py",
   "mimetype": "text/x-python",
   "name": "python",
   "nbconvert_exporter": "python",
   "pygments_lexer": "ipython3",
   "version": "3.12.3"
  }
 },
 "nbformat": 4,
 "nbformat_minor": 2
}
