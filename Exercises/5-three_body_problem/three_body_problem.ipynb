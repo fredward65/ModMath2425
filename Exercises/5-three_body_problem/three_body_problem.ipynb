{
 "cells": [
  {
   "cell_type": "markdown",
   "metadata": {},
   "source": [
    "### Three Body Problem ($n$-Body Problem for $n=3$)\n",
    "#### Newton's law of universal gravitation\n",
    "$F = G \\frac{m_1 m_2}{r^2}$\n",
    "\n",
    "$F = $ ?\n",
    "\n",
    "$G = $ ? $= 6.6743\\times10^{−11} \\mathrm{N} \\cdot\\frac{\\mathrm{m}^2}{\\mathrm{kg}^2}$\n",
    "\n",
    "$m_1, m_2 = $ ?\n",
    "\n",
    "$r = $ ?"
   ]
  },
  {
   "cell_type": "code",
   "execution_count": 78,
   "metadata": {},
   "outputs": [],
   "source": [
    "%matplotlib widget\n",
    "# Dependencies\n",
    "import matplotlib.animation\n",
    "import matplotlib.pyplot as plt\n",
    "import numpy as np\n",
    "from matplotlib import patches\n",
    "\n",
    "# Settings\n",
    "plt.rcParams[\"animation.html\"] = \"jshtml\"\n",
    "plt.rcParams['figure.dpi'] = 150"
   ]
  },
  {
   "cell_type": "code",
   "execution_count": null,
   "metadata": {},
   "outputs": [],
   "source": [
    "try:\n",
    "    ani.event_source.stop()\n",
    "except (NameError, AttributeError) as e:\n",
    "    pass\n",
    "\n",
    "h_ = 5\n",
    "w_ = 10\n",
    "\n",
    "# Plot setup\n",
    "fig = plt.figure(figsize=(6,3))\n",
    "fig.set_label(\"Three Body Problem\")\n",
    "ax = fig.subplots()\n",
    "ax.set_xlim(0, w_)\n",
    "ax.set_ylim(0, h_)\n",
    "ax.set_xticks([])\n",
    "ax.set_yticks([])\n",
    "\n",
    "# Bodies\n",
    "bodies = []\n",
    "for i in range(3):\n",
    "    pos = (np.random.rand()*w_,np.random.rand()*h_)\n",
    "    vel = (0.5*(np.random.randn()-.5), 0.1*(np.random.randn()-.5))\n",
    "    rad = 0.25 + np.random.rand()\n",
    "    col = (np.random.rand(),0,np.random.rand())\n",
    "    body = patches.Circle(pos, rad, color=col)\n",
    "    ax.add_patch(body)\n",
    "    bodies.append([body, vel])\n",
    "\n",
    "# Time period\n",
    "t_f = 10\n",
    "t = np.linspace(0, t_f, num=t_f*100)\n",
    "dt = np.diff(t)\n",
    "dt = np.append(dt, [dt[-1]])\n",
    "\n",
    "def update(dt_i):\n",
    "    for (body, vel) in bodies:\n",
    "        px, py = body.get_center()\n",
    "        vx, vy = vel\n",
    "        px += vx * dt_i\n",
    "        py += vy * dt_i\n",
    "        body.set_center((px, py))\n",
    "\n",
    "ani = matplotlib.animation.FuncAnimation(fig, update, frames=dt, interval=1000*np.mean(dt), repeat=False)\n",
    "plt.show()\n"
   ]
  }
 ],
 "metadata": {
  "kernelspec": {
   "display_name": "venv",
   "language": "python",
   "name": "python3"
  },
  "language_info": {
   "codemirror_mode": {
    "name": "ipython",
    "version": 3
   },
   "file_extension": ".py",
   "mimetype": "text/x-python",
   "name": "python",
   "nbconvert_exporter": "python",
   "pygments_lexer": "ipython3",
   "version": "3.12.3"
  }
 },
 "nbformat": 4,
 "nbformat_minor": 2
}
