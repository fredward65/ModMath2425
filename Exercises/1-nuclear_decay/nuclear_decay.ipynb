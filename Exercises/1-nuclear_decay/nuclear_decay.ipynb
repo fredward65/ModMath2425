{
 "cells": [
  {
   "cell_type": "markdown",
   "metadata": {},
   "source": [
    "### Désintégration radioactive\n",
    "$N = N_0 e^{-\\lambda t}$\n",
    "\n",
    "$N = $ Particles at $t$\n",
    "\n",
    "$N_0 =$ Particles at $t_0$\n",
    "\n",
    "$\\lambda =$ Decay rate\n",
    "\n",
    "$t =$ time\n",
    "\n",
    "### Temps de démi-vie\n",
    "$T_{1/2} = ?$\n",
    "\n",
    "$N_0\\frac{1}{2} = N_0 e^{-\\lambda T_{1/2}}$\n",
    "\n",
    "$\\ln(\\frac{1}{2}) = -\\lambda T_{1/2}$\n",
    "\n",
    "$\\therefore T_{1/2} = \\frac{\\ln(\\frac{1}{2})}{-\\lambda}$\n",
    "\n",
    "Démi-vie $C^{14}$: $T_{1/2\\ C^{14}}=5730\\ \\text{ans} \\therefore \\lambda_{C^{14}}=?$"
   ]
  },
  {
   "cell_type": "code",
   "execution_count": 22,
   "metadata": {},
   "outputs": [],
   "source": [
    "%matplotlib widget\n",
    "# Dependencies\n",
    "import matplotlib.pyplot as plt\n",
    "import numpy as np\n",
    "from matplotlib import colormaps as cm\n",
    "\n",
    "# Settings\n",
    "np.set_printoptions(precision=3)"
   ]
  },
  {
   "cell_type": "code",
   "execution_count": null,
   "metadata": {},
   "outputs": [],
   "source": [
    "plt.cla()\n",
    "\n",
    "t_fac = 365 * 24 * 60 * 60\n",
    "t12_c14 = 5730 * t_fac\n",
    "lmb_c14 = np.log(1/2) / -t12_c14\n",
    "\n",
    "# Particles at t = 0\n",
    "N_0 = 100\n",
    "# Decay constant\n",
    "lmb = lmb_c14\n",
    "\n",
    "coeff = [3/4, 2/3, 1/2, 1/3, 1/4, 0.1]\n",
    "N_coeff = []\n",
    "t_coeff = []\n",
    "for c_i in coeff:\n",
    "    N_c = c_i * N_0\n",
    "    t_c = - np.log(c_i) / lmb_c14\n",
    "    N_coeff.append(N_c)\n",
    "    t_coeff.append(t_c)\n",
    "\n",
    "# Time vector\n",
    "t = np.linspace(0, np.max(t_coeff), num=100)\n",
    "# Radioactive decay\n",
    "N = N_0 * np.exp(-lmb * t)\n",
    "\n",
    "# Plot\n",
    "plt.plot(t, N)\n",
    "plt.vlines(t_coeff, 0, N_coeff, colors='k', linestyles=':')\n",
    "plt.hlines(N_coeff, 0, t_coeff, colors='k', linestyles=':')\n",
    "plt.plot(t_coeff, N_coeff, 'kx')\n",
    "plt.xticks(t_coeff, [r'$t_{%5.2f}$' % c_i for c_i in coeff])\n",
    "plt.yticks(N_coeff, [r'$%5.2f N_0$' % c_i for c_i in coeff])\n",
    "plt.xlabel(r'$t$ (s)')\n",
    "plt.ylabel(r'Noyeaux restants $N$')\n",
    "plt.title(r'Décroissance Radioactive - $N$ vs $t$')\n",
    "plt.show()"
   ]
  }
 ],
 "metadata": {
  "kernelspec": {
   "display_name": "venv",
   "language": "python",
   "name": "python3"
  },
  "language_info": {
   "codemirror_mode": {
    "name": "ipython",
    "version": 3
   },
   "file_extension": ".py",
   "mimetype": "text/x-python",
   "name": "python",
   "nbconvert_exporter": "python",
   "pygments_lexer": "ipython3",
   "version": "3.12.3"
  }
 },
 "nbformat": 4,
 "nbformat_minor": 2
}
