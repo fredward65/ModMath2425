{
 "cells": [
  {
   "cell_type": "markdown",
   "metadata": {},
   "source": [
    "### Désintégration radioactive\n",
    "$N = N_0 e^{-\\lambda t}$\n",
    "\n",
    "### Temps de démi-vie\n",
    "$T_{1/2} = ?$\n",
    "\n",
    "Démi-vie $C^{14}$: $T_{1/2\\ C^{14}}=5730\\ \\text{ans} \\therefore \\lambda_{C^{14}}=?$"
   ]
  },
  {
   "cell_type": "code",
   "execution_count": 1,
   "metadata": {},
   "outputs": [],
   "source": [
    "%matplotlib widget\n",
    "# Dependencies\n",
    "import matplotlib.pyplot as plt\n",
    "import numpy as np\n",
    "from matplotlib import colormaps as cm\n",
    "\n",
    "# Settings\n",
    "np.set_printoptions(precision=3)"
   ]
  },
  {
   "cell_type": "code",
   "execution_count": null,
   "metadata": {},
   "outputs": [],
   "source": [
    "plt.cla()\n",
    "# Particles at t = 0\n",
    "N_0 = 100\n",
    "# Decay constant\n",
    "lmb = 1\n",
    "\n",
    "# Time vector\n",
    "t = np.linspace(0, 1, num=100)\n",
    "# Radioactive decay\n",
    "N = N_0 * np.flip(t)\n",
    "\n",
    "# Plot\n",
    "plt.plot(t, N)\n",
    "plt.xlabel(r'$t$ (s)')\n",
    "plt.ylabel(r'Noyeaux restants $N$')\n",
    "plt.title(r'Décroissance Radioactive - $N$ vs $t$')\n",
    "plt.show()"
   ]
  }
 ],
 "metadata": {
  "kernelspec": {
   "display_name": "venv",
   "language": "python",
   "name": "python3"
  },
  "language_info": {
   "codemirror_mode": {
    "name": "ipython",
    "version": 3
   },
   "file_extension": ".py",
   "mimetype": "text/x-python",
   "name": "python",
   "nbconvert_exporter": "python",
   "pygments_lexer": "ipython3",
   "version": "3.12.3"
  }
 },
 "nbformat": 4,
 "nbformat_minor": 2
}
