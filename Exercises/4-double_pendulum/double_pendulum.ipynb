{
 "cells": [
  {
   "cell_type": "markdown",
   "metadata": {},
   "source": [
    "### Double Pendulum\n",
    "Equations: <a href=\"https://www.myphysicslab.com/pendulum/double-pendulum-en.html\">myPhysicsLab Double Pendulum</a> "
   ]
  },
  {
   "cell_type": "code",
   "execution_count": 1,
   "metadata": {},
   "outputs": [],
   "source": [
    "%matplotlib widget\n",
    "# Dependencies\n",
    "import matplotlib.animation\n",
    "import matplotlib.pyplot as plt\n",
    "import numpy as np\n",
    "\n",
    "plt.rcParams[\"animation.html\"] = \"jshtml\"\n",
    "plt.rcParams['figure.dpi'] = 150\n",
    "\n",
    "# Gravity acceleration\n",
    "g = 9.80665\n",
    "# Pendulum parameters\n",
    "m_1 = .5\n",
    "m_2 = .5\n",
    "l_1 = .1\n",
    "l_2 = .2"
   ]
  },
  {
   "cell_type": "code",
   "execution_count": 2,
   "metadata": {},
   "outputs": [],
   "source": [
    "def compute_dot_omega(th1, th2, om1, om2):\n",
    "    \"\"\" Compute angular acceleration \"\"\"\n",
    "    dw_1 = 0\n",
    "    dw_2 = 0\n",
    "    return dw_1, dw_2"
   ]
  },
  {
   "cell_type": "code",
   "execution_count": null,
   "metadata": {},
   "outputs": [],
   "source": [
    "try:\n",
    "    ani.event_source.stop()\n",
    "except (NameError, AttributeError) as e:\n",
    "    pass\n",
    "\n",
    "# Initial conditions\n",
    "th_1 = .5*np.pi\n",
    "th_2 = .5*np.pi\n",
    "om_1 = 1\n",
    "om_2 = -1\n",
    "\n",
    "# Time period\n",
    "t_f = 10\n",
    "t = np.linspace(0, t_f, num=t_f*100)\n",
    "dt = np.diff(t)\n",
    "dt = np.append(dt, [dt[-1]])\n",
    "\n",
    "x0 = 0\n",
    "y0 = 0\n",
    "x_1 = lambda th1: l_1 * np.sin(th1)\n",
    "y_1 = lambda th1: l_1 * np.cos(th1) * -1\n",
    "x_2 = lambda th1, th2: x_1(th1) + l_2 * np.sin(th2)\n",
    "y_2 = lambda th1, th2: y_1(th1) - l_2 * np.cos(th2)\n",
    "\n",
    "# Plot setup\n",
    "fig = plt.figure(figsize=(6,3))\n",
    "fig.set_label(\"Double Pendulum\")\n",
    "ax = fig.subplots()\n",
    "ax.set_xlim(-1, 1)\n",
    "ax.set_ylim(-.5, .5)\n",
    "\n",
    "arm_1 = ax.plot([x0, x_1(th_1)], [y0, y_1(th_1)], 'b', lw=2)[0]\n",
    "arm_2 = ax.plot([x_1(th_1), x_2(th_1, th_2)], [y_1(th_1), y_2(th_1, th_2)], 'r', lw=2)[0]\n",
    "\n",
    "def update(dt_i):\n",
    "    global th_1, th_2, om_1, om_2\n",
    "    # Euler integration\n",
    "    dw_1, dw_2 = compute_dot_omega(th_1, th_2, om_1, om_2)\n",
    "    om_1 += dw_1 * dt_i\n",
    "    om_2 += dw_2 * dt_i\n",
    "    th_1 += om_1 * dt_i\n",
    "    th_2 += om_2 * dt_i\n",
    "\n",
    "    x1 = x_1(th_1)\n",
    "    y1 = y_1(th_1)\n",
    "    x2 = x_2(th_1, th_2)\n",
    "    y2 = y_2(th_1, th_2)\n",
    "    arm_1.set_data([x0, x1], [y0, y1])\n",
    "    arm_2.set_data([x1, x2], [y1, y2])\n",
    "\n",
    "ani = matplotlib.animation.FuncAnimation(fig, update, frames=dt, interval=1000*np.mean(dt), repeat=False)\n",
    "plt.show()\n"
   ]
  }
 ],
 "metadata": {
  "kernelspec": {
   "display_name": "venv",
   "language": "python",
   "name": "python3"
  },
  "language_info": {
   "codemirror_mode": {
    "name": "ipython",
    "version": 3
   },
   "file_extension": ".py",
   "mimetype": "text/x-python",
   "name": "python",
   "nbconvert_exporter": "python",
   "pygments_lexer": "ipython3",
   "version": "3.12.3"
  }
 },
 "nbformat": 4,
 "nbformat_minor": 2
}
