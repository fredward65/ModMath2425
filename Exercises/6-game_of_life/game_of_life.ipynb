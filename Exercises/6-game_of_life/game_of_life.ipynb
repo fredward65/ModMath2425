{
 "cells": [
  {
   "cell_type": "markdown",
   "metadata": {},
   "source": [
    "### Conway's Game of Life\n",
    "\n",
    "[The fantastic combinations of John Conway's new solitaire game \"life\", by Martin Gardner](https://web.stanford.edu/class/sts145/Library/life.pdf)\n",
    "\n",
    "#### Rules\n",
    "1. Survivals: Every cell with two or three neighboring cells survives for the next generation.\n",
    "2. Deaths. Each cell with four or more neighbors dies (is removed) from overpopulation. Every cell with one neighbor or none dies from isolation.\n",
    "3. Births. Each empty cell adjacent to exactly three neighbors - no more, no fewer - is a birth cell. A cell is placed on it at the next move"
   ]
  },
  {
   "cell_type": "code",
   "execution_count": 18,
   "metadata": {},
   "outputs": [],
   "source": [
    "%matplotlib widget\n",
    "# Dependencies\n",
    "import matplotlib.animation\n",
    "import matplotlib.pyplot as plt\n",
    "import numpy as np\n",
    "from matplotlib.backend_bases import MouseButton\n",
    "\n",
    "# Settings\n",
    "plt.rcParams[\"animation.html\"] = \"jshtml\"\n",
    "plt.rcParams['figure.dpi'] = 150"
   ]
  },
  {
   "cell_type": "code",
   "execution_count": null,
   "metadata": {},
   "outputs": [],
   "source": [
    "\"\"\" Create starting pattern \"\"\"\n",
    "try:\n",
    "    ani.event_source.stop()\n",
    "except (NameError, AttributeError) as e:\n",
    "    pass\n",
    "\n",
    "fig = plt.figure(figsize=(6,3))\n",
    "fig.set_label(\"Conway's Game of Life\")\n",
    "ax = fig.subplots()\n",
    "ax.set_xticks([])\n",
    "ax.set_yticks([])\n",
    "\n",
    "h_ = 10\n",
    "w_ = 20\n",
    "# grid = np.zeros((h_, w_))\n",
    "grid = np.rint(np.random.rand(h_, w_))\n",
    "aximg = ax.imshow(grid, 'Grays_r', vmin=0, vmax=1)\n",
    "\n",
    "def on_click(event):\n",
    "    if event.button is MouseButton.LEFT and event.inaxes:\n",
    "        i = int(np.trunc(event.ydata+.5))\n",
    "        j = int(np.trunc(event.xdata+.5))\n",
    "        grid[i][j] = 1 - grid[i][j]\n",
    "        aximg.set_data(grid)\n",
    "\n",
    "fig.canvas.mpl_connect('button_press_event', on_click)\n",
    "fig.tight_layout()"
   ]
  },
  {
   "cell_type": "code",
   "execution_count": null,
   "metadata": {},
   "outputs": [],
   "source": [
    "\"\"\" Run game \"\"\"\n",
    "\n",
    "try:\n",
    "    ani.event_source.stop()\n",
    "except (NameError, AttributeError) as e:\n",
    "    pass\n",
    "\n",
    "fig.canvas.mpl_disconnect(fig.canvas.mpl_connect('button_press_event', on_click))\n",
    "\n",
    "def update(t_i):\n",
    "    global grid\n",
    "    ngrid = grid.copy()\n",
    "    # grid = np.rint(np.random.rand(h_, w_))\n",
    "    for j in range(grid.shape[0]):\n",
    "        for i in range(grid.shape[1]):\n",
    "            n_count = 0\n",
    "            for jv in [-1,0,1]:\n",
    "                for iv in [-1,0,1]:\n",
    "                    if not (jv == 0 and iv == 0):\n",
    "                        n_count += grid[(j+jv) % h_][(i+iv) % w_]\n",
    "\n",
    "            if grid[j][i] == 0 and n_count == 3:\n",
    "                ngrid[j][i] = 1\n",
    "            if grid[j][i] == 1 and (n_count < 2 or n_count > 3):\n",
    "                ngrid[j][i] = 0\n",
    "                    \n",
    "    grid = ngrid\n",
    "    aximg.set_data(grid)\n",
    "\n",
    "# Time period\n",
    "t_f = 20\n",
    "t = np.linspace(0, t_f, num=t_f*5)\n",
    "dt_ = 1000*np.mean(np.diff(t))\n",
    "\n",
    "ani = matplotlib.animation.FuncAnimation(fig, update, frames=t, interval=dt_, repeat=False)\n",
    "fig.tight_layout()\n",
    "plt.show()"
   ]
  }
 ],
 "metadata": {
  "kernelspec": {
   "display_name": "venv",
   "language": "python",
   "name": "python3"
  },
  "language_info": {
   "codemirror_mode": {
    "name": "ipython",
    "version": 3
   },
   "file_extension": ".py",
   "mimetype": "text/x-python",
   "name": "python",
   "nbconvert_exporter": "python",
   "pygments_lexer": "ipython3",
   "version": "3.12.3"
  }
 },
 "nbformat": 4,
 "nbformat_minor": 2
}
